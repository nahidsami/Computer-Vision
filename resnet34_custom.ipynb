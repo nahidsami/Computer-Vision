{
  "cells": [
    {
      "cell_type": "code",
      "execution_count": null,
      "metadata": {
        "id": "zJJK9uc9OotY"
      },
      "outputs": [],
      "source": [
        "import torch\n",
        "import torch.nn as nn\n",
        "import torch.nn.functional as F\n",
        "from torchvision import datasets, transforms\n",
        "from torch.utils.data import DataLoader"
      ]
    },
    {
      "cell_type": "code",
      "execution_count": null,
      "metadata": {
        "id": "v6z6_xZmOrBB"
      },
      "outputs": [],
      "source": [
        "# Define the basic block\n",
        "class BasicBlock(nn.Module):\n",
        "    def __init__(self, in_channels, out_channels, stride=1, downsample=None):\n",
        "        super(BasicBlock, self).__init__()\n",
        "        self.conv1 = nn.Conv2d(in_channels, out_channels, kernel_size=3, stride=stride, padding=1, bias=False)\n",
        "        self.bn1 = nn.BatchNorm2d(out_channels)\n",
        "        self.conv2 = nn.Conv2d(out_channels, out_channels, kernel_size=3, stride=1, padding=1, bias=False)\n",
        "        self.bn2 = nn.BatchNorm2d(out_channels)\n",
        "        self.downsample = downsample  # Used for dimension matching in residual connections\n",
        "\n",
        "    def forward(self, x):\n",
        "        identity = x\n",
        "        if self.downsample:\n",
        "            identity = self.downsample(x)\n",
        "        out = self.conv1(x)\n",
        "        out = self.bn1(out)\n",
        "        out = F.relu(out)\n",
        "        out = self.conv2(out)\n",
        "        out = self.bn2(out)\n",
        "        out += identity\n",
        "        out = F.relu(out)\n",
        "        return out"
      ]
    },
    {
      "cell_type": "code",
      "execution_count": null,
      "metadata": {
        "id": "jHMvF6rUOuXQ"
      },
      "outputs": [],
      "source": [
        "# Define the ResNet-34 model\n",
        "class ResNet34(nn.Module):\n",
        "    def __init__(self, num_classes=1000):\n",
        "        super(ResNet34, self).__init__()\n",
        "        self.in_channels = 64\n",
        "\n",
        "        # Initial convolution and max-pooling\n",
        "        self.conv1 = nn.Conv2d(3, 64, kernel_size=7, stride=2, padding=3, bias=False)\n",
        "        self.bn1 = nn.BatchNorm2d(64)\n",
        "        self.relu = nn.ReLU(inplace=True)\n",
        "        self.maxpool = nn.MaxPool2d(kernel_size=3, stride=2, padding=1)\n",
        "\n",
        "        # Residual blocks\n",
        "        self.layer1 = self._make_layer(64, 3, stride=1)\n",
        "        self.layer2 = self._make_layer(128, 4, stride=2)\n",
        "        self.layer3 = self._make_layer(256, 6, stride=2)\n",
        "        self.layer4 = self._make_layer(512, 3, stride=2)\n",
        "\n",
        "        # Global Average Pooling and Fully Connected Layer\n",
        "        self.avgpool = nn.AdaptiveAvgPool2d((1, 1))\n",
        "        self.fc = nn.Linear(512, num_classes)\n",
        "\n",
        "    def _make_layer(self, out_channels, blocks, stride):\n",
        "        \"\"\"Create a residual block.\"\"\"\n",
        "        downsample = None\n",
        "        if stride != 1 or self.in_channels != out_channels:\n",
        "            downsample = nn.Sequential(\n",
        "                nn.Conv2d(self.in_channels, out_channels, kernel_size=1, stride=stride, bias=False),\n",
        "                nn.BatchNorm2d(out_channels),\n",
        "            )\n",
        "        layers = [BasicBlock(self.in_channels, out_channels, stride, downsample)]\n",
        "        self.in_channels = out_channels\n",
        "        for _ in range(1, blocks):\n",
        "            layers.append(BasicBlock(self.in_channels, out_channels))\n",
        "        return nn.Sequential(*layers)\n",
        "\n",
        "    def forward(self, x):\n",
        "        x = self.conv1(x)\n",
        "        x = self.bn1(x)\n",
        "        x = self.relu(x)\n",
        "        x = self.maxpool(x)\n",
        "        x = self.layer1(x)\n",
        "        x = self.layer2(x)\n",
        "        x = self.layer3(x)\n",
        "        x = self.layer4(x)\n",
        "        x = self.avgpool(x)\n",
        "        x = torch.flatten(x, 1)\n",
        "        x = self.fc(x)\n",
        "        return x"
      ]
    },
    {
      "cell_type": "code",
      "execution_count": null,
      "metadata": {
        "id": "dlliUPuWO4yA"
      },
      "outputs": [],
      "source": [
        "# Data preprocessing\n",
        "transform = transforms.Compose([\n",
        "    transforms.Resize((224, 224)),  # ResNet expects 224x224 images\n",
        "    transforms.ToTensor(),\n",
        "    transforms.Normalize((0.5, 0.5, 0.5), (0.5, 0.5, 0.5)),\n",
        "])"
      ]
    },
    {
      "cell_type": "code",
      "execution_count": null,
      "metadata": {
        "colab": {
          "base_uri": "https://localhost:8080/"
        },
        "id": "QpClw5-OO7Oo",
        "outputId": "7858a8f8-e84d-4c82-f5d6-644366f79167"
      },
      "outputs": [
        {
          "name": "stdout",
          "output_type": "stream",
          "text": [
            "Downloading https://www.cs.toronto.edu/~kriz/cifar-10-python.tar.gz to ./data/cifar-10-python.tar.gz\n"
          ]
        },
        {
          "name": "stderr",
          "output_type": "stream",
          "text": [
            "100%|██████████| 170M/170M [00:03<00:00, 43.6MB/s]\n"
          ]
        },
        {
          "name": "stdout",
          "output_type": "stream",
          "text": [
            "Extracting ./data/cifar-10-python.tar.gz to ./data\n",
            "Files already downloaded and verified\n"
          ]
        }
      ],
      "source": [
        "# Load CIFAR-10 dataset\n",
        "train_dataset = datasets.CIFAR10(root=\"./data\", train=True, transform=transform, download=True)\n",
        "test_dataset = datasets.CIFAR10(root=\"./data\", train=False, transform=transform, download=True)\n",
        "\n",
        "train_loader = DataLoader(train_dataset, batch_size=64, shuffle=True)\n",
        "test_loader = DataLoader(test_dataset, batch_size=64, shuffle=False)"
      ]
    },
    {
      "cell_type": "code",
      "execution_count": null,
      "metadata": {
        "colab": {
          "base_uri": "https://localhost:8080/"
        },
        "id": "tPluTkj1VdkQ",
        "outputId": "927f9c05-4d47-4292-b970-c2c515f672ec"
      },
      "outputs": [
        {
          "name": "stdout",
          "output_type": "stream",
          "text": [
            "torch.Size([3, 224, 224])\n",
            "tensor(0)\n"
          ]
        }
      ],
      "source": [
        "for i in train_loader:\n",
        "  batch_index = 0\n",
        "  print(i[0][batch_index].shape)\n",
        "  print(i[1][batch_index])\n",
        "  break"
      ]
    },
    {
      "cell_type": "code",
      "execution_count": null,
      "metadata": {
        "id": "hllFe6T0O95o"
      },
      "outputs": [],
      "source": [
        "def train(model, dataloader, criterion, optimizer, device):\n",
        "    model.train()\n",
        "    running_loss = 0.0\n",
        "    correct = 0\n",
        "    total = 0\n",
        "\n",
        "    for images, labels in dataloader:\n",
        "        images, labels = images.to(device), labels.to(device)\n",
        "\n",
        "        # Forward pass\n",
        "        outputs = model(images)\n",
        "        loss = criterion(outputs, labels)\n",
        "\n",
        "        # Backward pass and optimization\n",
        "        optimizer.zero_grad()\n",
        "        loss.backward()\n",
        "        optimizer.step()\n",
        "\n",
        "        # Metrics\n",
        "        running_loss += loss.item()\n",
        "        _, predicted = outputs.max(1)\n",
        "        total += labels.size(0)\n",
        "        correct += predicted.eq(labels).sum().item()\n",
        "\n",
        "    epoch_loss = running_loss / len(dataloader)\n",
        "    accuracy = 100.0 * correct / total\n",
        "    return epoch_loss, accuracy\n",
        "\n",
        "\n",
        "def evaluate(model, dataloader, criterion, device):\n",
        "    model.eval()\n",
        "    running_loss = 0.0\n",
        "    correct = 0\n",
        "    total = 0\n",
        "\n",
        "    with torch.no_grad():\n",
        "        for images, labels in dataloader:\n",
        "            images, labels = images.to(device), labels.to(device)\n",
        "            outputs = model(images)\n",
        "            loss = criterion(outputs, labels)\n",
        "\n",
        "            running_loss += loss.item()\n",
        "            _, predicted = outputs.max(1)\n",
        "            total += labels.size(0)\n",
        "            correct += predicted.eq(labels).sum().item()\n",
        "\n",
        "    epoch_loss = running_loss / len(dataloader)\n",
        "    accuracy = 100.0 * correct / total\n",
        "    return epoch_loss, accuracy\n"
      ]
    },
    {
      "cell_type": "code",
      "execution_count": null,
      "metadata": {
        "colab": {
          "base_uri": "https://localhost:8080/"
        },
        "id": "tP3IYGV_PBWY",
        "outputId": "8c8c95a1-3854-41bd-fea9-87c599c545c4"
      },
      "outputs": [
        {
          "name": "stdout",
          "output_type": "stream",
          "text": [
            "----------------------------------------------------------------\n",
            "        Layer (type)               Output Shape         Param #\n",
            "================================================================\n",
            "            Conv2d-1         [-1, 64, 112, 112]           9,408\n",
            "       BatchNorm2d-2         [-1, 64, 112, 112]             128\n",
            "              ReLU-3         [-1, 64, 112, 112]               0\n",
            "         MaxPool2d-4           [-1, 64, 56, 56]               0\n",
            "            Conv2d-5           [-1, 64, 56, 56]          36,864\n",
            "       BatchNorm2d-6           [-1, 64, 56, 56]             128\n",
            "            Conv2d-7           [-1, 64, 56, 56]          36,864\n",
            "       BatchNorm2d-8           [-1, 64, 56, 56]             128\n",
            "        BasicBlock-9           [-1, 64, 56, 56]               0\n",
            "           Conv2d-10           [-1, 64, 56, 56]          36,864\n",
            "      BatchNorm2d-11           [-1, 64, 56, 56]             128\n",
            "           Conv2d-12           [-1, 64, 56, 56]          36,864\n",
            "      BatchNorm2d-13           [-1, 64, 56, 56]             128\n",
            "       BasicBlock-14           [-1, 64, 56, 56]               0\n",
            "           Conv2d-15           [-1, 64, 56, 56]          36,864\n",
            "      BatchNorm2d-16           [-1, 64, 56, 56]             128\n",
            "           Conv2d-17           [-1, 64, 56, 56]          36,864\n",
            "      BatchNorm2d-18           [-1, 64, 56, 56]             128\n",
            "       BasicBlock-19           [-1, 64, 56, 56]               0\n",
            "           Conv2d-20          [-1, 128, 28, 28]           8,192\n",
            "      BatchNorm2d-21          [-1, 128, 28, 28]             256\n",
            "           Conv2d-22          [-1, 128, 28, 28]          73,728\n",
            "      BatchNorm2d-23          [-1, 128, 28, 28]             256\n",
            "           Conv2d-24          [-1, 128, 28, 28]         147,456\n",
            "      BatchNorm2d-25          [-1, 128, 28, 28]             256\n",
            "       BasicBlock-26          [-1, 128, 28, 28]               0\n",
            "           Conv2d-27          [-1, 128, 28, 28]         147,456\n",
            "      BatchNorm2d-28          [-1, 128, 28, 28]             256\n",
            "           Conv2d-29          [-1, 128, 28, 28]         147,456\n",
            "      BatchNorm2d-30          [-1, 128, 28, 28]             256\n",
            "       BasicBlock-31          [-1, 128, 28, 28]               0\n",
            "           Conv2d-32          [-1, 128, 28, 28]         147,456\n",
            "      BatchNorm2d-33          [-1, 128, 28, 28]             256\n",
            "           Conv2d-34          [-1, 128, 28, 28]         147,456\n",
            "      BatchNorm2d-35          [-1, 128, 28, 28]             256\n",
            "       BasicBlock-36          [-1, 128, 28, 28]               0\n",
            "           Conv2d-37          [-1, 128, 28, 28]         147,456\n",
            "      BatchNorm2d-38          [-1, 128, 28, 28]             256\n",
            "           Conv2d-39          [-1, 128, 28, 28]         147,456\n",
            "      BatchNorm2d-40          [-1, 128, 28, 28]             256\n",
            "       BasicBlock-41          [-1, 128, 28, 28]               0\n",
            "           Conv2d-42          [-1, 256, 14, 14]          32,768\n",
            "      BatchNorm2d-43          [-1, 256, 14, 14]             512\n",
            "           Conv2d-44          [-1, 256, 14, 14]         294,912\n",
            "      BatchNorm2d-45          [-1, 256, 14, 14]             512\n",
            "           Conv2d-46          [-1, 256, 14, 14]         589,824\n",
            "      BatchNorm2d-47          [-1, 256, 14, 14]             512\n",
            "       BasicBlock-48          [-1, 256, 14, 14]               0\n",
            "           Conv2d-49          [-1, 256, 14, 14]         589,824\n",
            "      BatchNorm2d-50          [-1, 256, 14, 14]             512\n",
            "           Conv2d-51          [-1, 256, 14, 14]         589,824\n",
            "      BatchNorm2d-52          [-1, 256, 14, 14]             512\n",
            "       BasicBlock-53          [-1, 256, 14, 14]               0\n",
            "           Conv2d-54          [-1, 256, 14, 14]         589,824\n",
            "      BatchNorm2d-55          [-1, 256, 14, 14]             512\n",
            "           Conv2d-56          [-1, 256, 14, 14]         589,824\n",
            "      BatchNorm2d-57          [-1, 256, 14, 14]             512\n",
            "       BasicBlock-58          [-1, 256, 14, 14]               0\n",
            "           Conv2d-59          [-1, 256, 14, 14]         589,824\n",
            "      BatchNorm2d-60          [-1, 256, 14, 14]             512\n",
            "           Conv2d-61          [-1, 256, 14, 14]         589,824\n",
            "      BatchNorm2d-62          [-1, 256, 14, 14]             512\n",
            "       BasicBlock-63          [-1, 256, 14, 14]               0\n",
            "           Conv2d-64          [-1, 256, 14, 14]         589,824\n",
            "      BatchNorm2d-65          [-1, 256, 14, 14]             512\n",
            "           Conv2d-66          [-1, 256, 14, 14]         589,824\n",
            "      BatchNorm2d-67          [-1, 256, 14, 14]             512\n",
            "       BasicBlock-68          [-1, 256, 14, 14]               0\n",
            "           Conv2d-69          [-1, 256, 14, 14]         589,824\n",
            "      BatchNorm2d-70          [-1, 256, 14, 14]             512\n",
            "           Conv2d-71          [-1, 256, 14, 14]         589,824\n",
            "      BatchNorm2d-72          [-1, 256, 14, 14]             512\n",
            "       BasicBlock-73          [-1, 256, 14, 14]               0\n",
            "           Conv2d-74            [-1, 512, 7, 7]         131,072\n",
            "      BatchNorm2d-75            [-1, 512, 7, 7]           1,024\n",
            "           Conv2d-76            [-1, 512, 7, 7]       1,179,648\n",
            "      BatchNorm2d-77            [-1, 512, 7, 7]           1,024\n",
            "           Conv2d-78            [-1, 512, 7, 7]       2,359,296\n",
            "      BatchNorm2d-79            [-1, 512, 7, 7]           1,024\n",
            "       BasicBlock-80            [-1, 512, 7, 7]               0\n",
            "           Conv2d-81            [-1, 512, 7, 7]       2,359,296\n",
            "      BatchNorm2d-82            [-1, 512, 7, 7]           1,024\n",
            "           Conv2d-83            [-1, 512, 7, 7]       2,359,296\n",
            "      BatchNorm2d-84            [-1, 512, 7, 7]           1,024\n",
            "       BasicBlock-85            [-1, 512, 7, 7]               0\n",
            "           Conv2d-86            [-1, 512, 7, 7]       2,359,296\n",
            "      BatchNorm2d-87            [-1, 512, 7, 7]           1,024\n",
            "           Conv2d-88            [-1, 512, 7, 7]       2,359,296\n",
            "      BatchNorm2d-89            [-1, 512, 7, 7]           1,024\n",
            "       BasicBlock-90            [-1, 512, 7, 7]               0\n",
            "AdaptiveAvgPool2d-91            [-1, 512, 1, 1]               0\n",
            "           Linear-92                   [-1, 10]           5,130\n",
            "================================================================\n",
            "Total params: 21,289,802\n",
            "Trainable params: 21,289,802\n",
            "Non-trainable params: 0\n",
            "----------------------------------------------------------------\n",
            "Input size (MB): 0.57\n",
            "Forward/backward pass size (MB): 75.23\n",
            "Params size (MB): 81.21\n",
            "Estimated Total Size (MB): 157.02\n",
            "----------------------------------------------------------------\n"
          ]
        }
      ],
      "source": [
        "# Hyperparameters\n",
        "device = torch.device(\"cuda\" if torch.cuda.is_available() else \"cpu\")\n",
        "model = ResNet34(num_classes=10).to(device)\n",
        "criterion = nn.CrossEntropyLoss()\n",
        "optimizer = torch.optim.Adam(model.parameters(), lr=0.001)\n",
        "\n",
        "from torchsummary import summary\n",
        "\n",
        "summary(model, (3, 224, 224))"
      ]
    },
    {
      "cell_type": "code",
      "execution_count": null,
      "metadata": {
        "id": "F7N4_RFrVMQ3"
      },
      "outputs": [],
      "source": [
        "num_epochs = 5\n",
        "\n",
        "for epoch in range(num_epochs):\n",
        "    train_loss, train_accuracy = train(model, train_loader, criterion, optimizer, device)\n",
        "    test_loss, test_accuracy = evaluate(model, test_loader, criterion, device)\n",
        "\n",
        "    print(f\"Epoch {epoch+1}/{num_epochs}\")\n",
        "    print(f\"Train Loss: {train_loss:.4f}, Train Accuracy: {train_accuracy:.2f}%\")\n",
        "    print(f\"Test Loss: {test_loss:.4f}, Test Accuracy: {test_accuracy:.2f}%\")\n"
      ]
    },
    {
      "cell_type": "code",
      "execution_count": null,
      "metadata": {
        "id": "HnziPc0oXH-L"
      },
      "outputs": [],
      "source": []
    }
  ],
  "metadata": {
    "colab": {
      "provenance": []
    },
    "kernelspec": {
      "display_name": "Python 3",
      "name": "python3"
    },
    "language_info": {
      "name": "python"
    }
  },
  "nbformat": 4,
  "nbformat_minor": 0
}
